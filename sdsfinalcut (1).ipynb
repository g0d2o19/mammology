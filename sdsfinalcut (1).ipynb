{
  "cells": [
    {
      "cell_type": "code",
      "execution_count": null,
      "metadata": {
        "colab": {
          "base_uri": "https://localhost:8080/"
        },
        "id": "ULjkiRx0gZDF",
        "outputId": "d71a4d3c-0f9f-4d79-c06f-7c30b5eecb9d"
      },
      "outputs": [
        {
          "output_type": "stream",
          "name": "stdout",
          "text": [
            "Drive already mounted at /content/drive; to attempt to forcibly remount, call drive.mount(\"/content/drive\", force_remount=True).\n"
          ]
        }
      ],
      "source": [
        "from google.colab import drive\n",
        "drive.mount('/content/drive')\n"
      ]
    },
    {
      "cell_type": "code",
      "metadata": {
        "id": "rfm4wb9xgemj",
        "ExecuteTime": {
          "end_time": "2025-02-23T14:52:08.706340Z",
          "start_time": "2025-02-23T14:52:08.204064Z"
        }
      },
      "source": [
        "import os\n",
        "import pandas as pd\n",
        "import numpy as np\n",
        "import matplotlib.pyplot as plt\n",
        "import seaborn as sns\n",
        "from PIL import Image\n",
        "from sklearn.model_selection import train_test_split\n",
        "from sklearn.preprocessing import StandardScaler\n",
        "from sklearn.linear_model import LogisticRegression\n",
        "from sklearn.svm import SVC\n",
        "from sklearn.tree import DecisionTreeClassifier\n",
        "from sklearn.ensemble import RandomForestClassifier\n",
        "from sklearn.neighbors import KNeighborsClassifier\n",
        "from sklearn.metrics import (\n",
        "    accuracy_score, precision_score, recall_score, f1_score, roc_auc_score,\n",
        "    classification_report, confusion_matrix, roc_curve, auc\n",
        ")\n"
      ],
      "outputs": [],
      "execution_count": null
    },
    {
      "cell_type": "code",
      "metadata": {
        "colab": {
          "base_uri": "https://localhost:8080/"
        },
        "id": "obt2TRY7gfnf",
        "outputId": "9585a8bc-2ca3-4adb-fa2a-f368644fa3d2",
        "ExecuteTime": {
          "end_time": "2025-02-23T14:52:10.411953Z",
          "start_time": "2025-02-23T14:52:10.348660Z"
        }
      },
      "source": [
        "breast_annotations = pd.read_csv(r'C:\\Users\\g0d2o\\Downloads\\project\\final\\breast-level_annotations.csv')\n",
        "print(breast_annotations.head())\n"
      ],
      "outputs": [
        {
          "name": "stdout",
          "output_type": "stream",
          "text": [
            "                           study_id                         series_id  \\\n",
            "0  b8d273e8601f348d3664778dae0e7e0b  b36517b9cbbcfd286a7ae04f643af97a   \n",
            "1  b8d273e8601f348d3664778dae0e7e0b  b36517b9cbbcfd286a7ae04f643af97a   \n",
            "2  b8d273e8601f348d3664778dae0e7e0b  b36517b9cbbcfd286a7ae04f643af97a   \n",
            "3  b8d273e8601f348d3664778dae0e7e0b  b36517b9cbbcfd286a7ae04f643af97a   \n",
            "4  8269f5971eaca3e5d3772d1796e6bd7a  d931832a0815df082c085b6e09d20aac   \n",
            "\n",
            "                           image_id laterality view_position  height  width  \\\n",
            "0  d8125545210c08e1b1793a5af6458ee2          L            CC    3518   2800   \n",
            "1  290c658f4e75a3f83ec78a847414297c          L           MLO    3518   2800   \n",
            "2  cd0fc7bc53ac632a11643ac4cc91002a          R            CC    3518   2800   \n",
            "3  71638b1e853799f227492bfb08a01491          R           MLO    3518   2800   \n",
            "4  dd9ce3288c0773e006a294188aadba8e          L            CC    3518   2800   \n",
            "\n",
            "  breast_birads breast_density     split  \n",
            "0     BI-RADS 2      DENSITY C  training  \n",
            "1     BI-RADS 2      DENSITY C  training  \n",
            "2     BI-RADS 2      DENSITY C  training  \n",
            "3     BI-RADS 2      DENSITY C  training  \n",
            "4     BI-RADS 1      DENSITY C  training  \n"
          ]
        }
      ],
      "execution_count": null
    },
    {
      "cell_type": "code",
      "metadata": {
        "id": "5IlRtK0Vgge1",
        "ExecuteTime": {
          "end_time": "2025-02-23T14:52:12.786628Z",
          "start_time": "2025-02-23T14:52:12.771946Z"
        }
      },
      "source": [
        "def map_birads_to_label(birads):\n",
        "    return 0 if birads == 'BI-RADS 1' else 1\n",
        "\n",
        "breast_annotations['label'] = breast_annotations['breast_birads'].apply(map_birads_to_label)\n"
      ],
      "outputs": [],
      "execution_count": null
    },
    {
      "cell_type": "code",
      "metadata": {
        "colab": {
          "base_uri": "https://localhost:8080/",
          "height": 497
        },
        "id": "vyeg-FltijK3",
        "outputId": "93636776-ec52-40e6-9190-ff3819b4949f",
        "ExecuteTime": {
          "end_time": "2025-02-23T14:52:15.335582Z",
          "start_time": "2025-02-23T14:52:15.140110Z"
        }
      },
      "source": [
        "plt.figure(figsize=(6, 4))\n",
        "sns.countplot(x=breast_annotations['label'], palette='coolwarm')\n",
        "plt.xlabel(\"Class (0: Normal, 1: Abnormal)\")\n",
        "plt.ylabel(\"Count\")\n",
        "plt.title(\"Class Distribution\")\n",
        "plt.show()\n"
      ],
      "outputs": [
        {
          "name": "stderr",
          "output_type": "stream",
          "text": [
            "C:\\Users\\g0d2o\\AppData\\Local\\Temp\\ipykernel_8376\\2935758683.py:2: FutureWarning: \n",
            "\n",
            "Passing `palette` without assigning `hue` is deprecated and will be removed in v0.14.0. Assign the `x` variable to `hue` and set `legend=False` for the same effect.\n",
            "\n",
            "  sns.countplot(x=breast_annotations['label'], palette='coolwarm')\n"
          ]
        },
        {
          "data": {
            "text/plain": [
              "<Figure size 600x400 with 1 Axes>"
            ],
            "image/png": "[encoded data removed]"
          },
          "metadata": {},
          "output_type": "display_data"
        }
      ],
      "execution_count": null
    },
    {
      "cell_type": "code",
      "metadata": {
        "colab": {
          "base_uri": "https://localhost:8080/"
        },
        "id": "IT8XPJoiilOA",
        "outputId": "e4ce2f8e-5806-4256-9b5f-822278f96933",
        "ExecuteTime": {
          "end_time": "2025-02-23T14:52:18.761807Z",
          "start_time": "2025-02-23T14:52:18.743750Z"
        }
      },
      "source": [
        "train_data = breast_annotations[breast_annotations['split'] == 'training']\n",
        "test_data = breast_annotations[breast_annotations['split'] == 'test']\n",
        "\n",
        "print(f\"Training set size: {len(train_data)}\")\n",
        "print(f\"Test set size: {len(test_data)}\")\n"
      ],
      "outputs": [
        {
          "name": "stdout",
          "output_type": "stream",
          "text": [
            "Training set size: 16000\n",
            "Test set size: 4000\n"
          ]
        }
      ],
      "execution_count": null
    },
    {
      "cell_type": "code",
      "metadata": {
        "id": "_XPlWom_imXx",
        "ExecuteTime": {
          "end_time": "2025-02-23T14:52:20.641951Z",
          "start_time": "2025-02-23T14:52:20.632036Z"
        }
      },
      "source": [
        "def load_images(study_ids, image_ids, image_dir, target_size=(128, 128), sample_size=5):\n",
        "    images = []\n",
        "    sample_imgs = []\n",
        "    sample_labels = []\n",
        "\n",
        "    for i, (study_id, image_id) in enumerate(zip(study_ids, image_ids)):\n",
        "        subfolder_path = os.path.join(image_dir, study_id)\n",
        "        if not os.path.exists(subfolder_path):\n",
        "            continue\n",
        "        img_path = os.path.join(subfolder_path, f\"{image_id}.jpg\")\n",
        "        if not os.path.exists(img_path):\n",
        "            continue\n",
        "        try:\n",
        "            img = Image.open(img_path).convert('L')\n",
        "            img = img.resize(target_size)\n",
        "            img_array = np.array(img) / 255.0\n",
        "            images.append(img_array)\n",
        "\n",
        "            if i < sample_size:\n",
        "                sample_imgs.append(img)\n",
        "                sample_labels.append(image_id)\n",
        "        except Exception as e:\n",
        "            print(f\"Error loading image {img_path}: {e}\")\n",
        "\n",
        "    return np.array(images), sample_imgs, sample_labels\n"
      ],
      "outputs": [],
      "execution_count": null
    },
    {
      "cell_type": "code",
      "metadata": {
        "colab": {
          "base_uri": "https://localhost:8080/"
        },
        "id": "br2yg6F0ioF8",
        "outputId": "d864a1fc-367b-4c00-fc99-2e0dd074b9a8",
        "ExecuteTime": {
          "end_time": "2025-02-23T14:52:28.768002Z",
          "start_time": "2025-02-23T14:52:24.995828Z"
        }
      },
      "source": [
        "import numpy as np\n",
        "import os\n",
        "\n",
        "if os.path.exists(\"X_train.npy\") and os.path.exists(\"X_test.npy\"):\n",
        "    print(\"Loading saved datasets...\")\n",
        "\n",
        "    X_train = np.load(\"X_train.npy\")\n",
        "    y_train = np.load(\"y_train.npy\")\n",
        "    X_test = np.load(\"X_test.npy\")\n",
        "    y_test = np.load(\"y_test.npy\")\n",
        "\n",
        "    print(\"Datasets loaded successfully!\")\n",
        "\n",
        "else:\n",
        "    print(\"Loading images and processing... This may take a while.\")\n",
        "\n",
        "    X_train, train_samples, train_labels = load_images(\n",
        "        train_data['study_id'], train_data['image_id'], r'C:\\Users\\g0d2o\\Downloads\\project\\final\\images3'\n",
        "    )\n",
        "    y_train = train_data['label'].values\n",
        "\n",
        "    X_test, test_samples, test_labels = load_images(\n",
        "        test_data['study_id'], test_data['image_id'], r'C:\\Users\\g0d2o\\Downloads\\project\\final\\images3'\n",
        "    )\n",
        "    y_test = test_data['label'].values\n",
        "\n",
        "    np.save(\"X_train.npy\", X_train)\n",
        "    np.save(\"y_train.npy\", y_train)\n",
        "    np.save(\"X_test.npy\", X_test)\n",
        "    np.save(\"y_test.npy\", y_test)\n",
        "\n",
        "    print(\"Datasets saved successfully!\")\n"
      ],
      "outputs": [
        {
          "name": "stdout",
          "output_type": "stream",
          "text": [
            "Loading saved datasets...\n",
            "Datasets loaded successfully!\n"
          ]
        }
      ],
      "execution_count": null
    },
    {
      "cell_type": "code",
      "metadata": {
        "colab": {
          "base_uri": "https://localhost:8080/"
        },
        "id": "bEfaE4qpjcPz",
        "outputId": "bfedc68a-29c2-44d6-8be9-c763fd9ffe40",
        "ExecuteTime": {
          "end_time": "2025-02-23T14:53:27.034581Z",
          "start_time": "2025-02-23T14:52:29.784809Z"
        }
      },
      "source": [
        "import numpy as np\n",
        "from sklearn.preprocessing import StandardScaler\n",
        "from sklearn.decomposition import PCA\n",
        "\n",
        "\n",
        "X_train = np.load(\"X_train.npy\")\n",
        "X_test = np.load(\"X_test.npy\")\n",
        "\n",
        "scaler = StandardScaler()\n",
        "X_train = scaler.fit_transform(X_train)\n",
        "X_test = scaler.transform(X_test)\n",
        "\n",
        "pca = PCA(n_components=300)\n",
        "X_train = pca.fit_transform(X_train)\n",
        "X_test = pca.transform(X_test)\n",
        "\n",
        "print(\"After PCA: \", X_train.shape, X_test.shape)"
      ],
      "outputs": [
        {
          "name": "stdout",
          "output_type": "stream",
          "text": [
            "After PCA:  (16000, 300) (4000, 300)\n"
          ]
        }
      ],
      "execution_count": null
    },
    {
      "cell_type": "code",
      "source": [
        "print(f\"X_train shape: {X_train.shape}\")\n",
        "print(f\"y_train shape: {y_train.shape}\")\n"
      ],
      "metadata": {
        "colab": {
          "base_uri": "https://localhost:8080/"
        },
        "id": "sAhJftIWrpBj",
        "outputId": "6317e301-84e8-44cd-cb93-2efb7c730185",
        "ExecuteTime": {
          "end_time": "2025-02-23T14:53:33.019260Z",
          "start_time": "2025-02-23T14:53:33.010872Z"
        }
      },
      "outputs": [
        {
          "name": "stdout",
          "output_type": "stream",
          "text": [
            "X_train shape: (16000, 300)\n",
            "y_train shape: (16000,)\n"
          ]
        }
      ],
      "execution_count": null
    },
    {
      "cell_type": "code",
      "metadata": {
        "colab": {
          "base_uri": "https://localhost:8080/"
        },
        "id": "z5RLbGwoip4N",
        "outputId": "c5a534cb-5a4f-44d5-b591-d5ac3afa3305",
        "ExecuteTime": {
          "end_time": "2025-02-23T14:53:45.223594Z",
          "start_time": "2025-02-23T14:53:41.926355Z"
        }
      },
      "source": [
        "from imblearn.over_sampling import SMOTE\n",
        "\n",
        "smote = SMOTE(sampling_strategy='auto', random_state=42)\n",
        "X_train, y_train = smote.fit_resample(X_train, y_train)\n",
        "\n",
        "X_train, X_val, y_train, y_val = train_test_split(\n",
        "    X_train, y_train, test_size=0.2, random_state=42, stratify=y_train\n",
        ")\n",
        "\n",
        "print(f\"Final Train Set: {X_train.shape}, Validation Set: {X_val.shape}, Test Set: {X_test.shape}\")\n"
      ],
      "outputs": [
        {
          "name": "stdout",
          "output_type": "stream",
          "text": [
            "Final Train Set: (17158, 300), Validation Set: (4290, 300), Test Set: (4000, 300)\n"
          ]
        }
      ],
      "execution_count": null
    },
    {
      "cell_type": "code",
      "metadata": {
        "id": "kTl6y5L4Ik9i",
        "ExecuteTime": {
          "end_time": "2025-02-23T14:53:51.601355Z",
          "start_time": "2025-02-23T14:53:51.592125Z"
        }
      },
      "source": [
        "from sklearn.metrics import classification_report, recall_score\n",
        "from sklearn.model_selection import RandomizedSearchCV\n",
        "from sklearn.ensemble import RandomForestClassifier\n",
        "from sklearn.svm import SVC\n",
        "from sklearn.tree import DecisionTreeClassifier\n",
        "from sklearn.linear_model import LogisticRegression\n",
        "from sklearn.neighbors import KNeighborsClassifier\n"
      ],
      "outputs": [],
      "execution_count": null
    },
    {
      "cell_type": "code",
      "metadata": {
        "id": "PkmVvFYX4Zxo",
        "ExecuteTime": {
          "end_time": "2025-02-23T14:53:53.456372Z",
          "start_time": "2025-02-23T14:53:53.446946Z"
        }
      },
      "source": [
        "def tune_model(model, param_dist, X_train, y_train):\n",
        "    grid_search = RandomizedSearchCV(model, param_distributions=param_dist,\n",
        "                                     n_iter=10, scoring='recall', cv=3,\n",
        "                                     n_jobs=-1, random_state=42)\n",
        "    grid_search.fit(X_train, y_train)\n",
        "    return grid_search.best_estimator_\n"
      ],
      "outputs": [],
      "execution_count": null
    },
    {
      "cell_type": "code",
      "metadata": {
        "id": "2lzctfL8J04G",
        "ExecuteTime": {
          "end_time": "2025-02-23T14:53:58.945863Z",
          "start_time": "2025-02-23T14:53:58.935654Z"
        }
      },
      "source": [
        "param_grids = {\n",
        "    \"Logistic Regression\": {\n",
        "        'C': [0.01, 0.1, 1, 10],\n",
        "        'penalty': ['l1', 'l2'],\n",
        "        'solver': ['liblinear', 'saga']\n",
        "    },\n",
        "    \"Decision Tree\": {\n",
        "        'max_depth': [None, 10, 20],\n",
        "        'min_samples_split': [2, 5, 10]\n",
        "    },\n",
        "    \"Random Forest\": {\n",
        "        'n_estimators': [300, 500],\n",
        "        'max_depth': [15, 20, 25],\n",
        "        'min_samples_split': [2, 5],\n",
        "        'class_weight': [\"balanced_subsample\"]\n",
        "    },\n",
        "    \"k-NN\": {\n",
        "        'n_neighbors': [3, 5, 7, 10, 15],\n",
        "        'weights': ['uniform', 'distance'],\n",
        "        'metric': ['euclidean', 'manhattan', 'minkowski']\n",
        "    },\n",
        "    \"SVM\": {\n",
        "        'C': [0.01, 0.1, 1],\n",
        "        'kernel': ['linear', 'rbf'],\n",
        "        'gamma': ['scale', 'auto']\n",
        "    }\n",
        "}\n"
      ],
      "outputs": [],
      "execution_count": null
    },
    {
      "cell_type": "code",
      "execution_count": null,
      "metadata": {
        "colab": {
          "base_uri": "https://localhost:8080/"
        },
        "id": "9cipL5mdJ2BB",
        "outputId": "dece1c22-6171-4952-f280-b04683821571"
      },
      "outputs": [
        {
          "output_type": "stream",
          "name": "stdout",
          "text": [
            " Tuning hyperparameters for Logistic Regression...\n",
            "\n",
            " Logistic Regression - Classification Report:\n",
            "              precision    recall  f1-score   support\n",
            "\n",
            "           0       0.66      0.52      0.58      2682\n",
            "           1       0.32      0.47      0.38      1318\n",
            "\n",
            "    accuracy                           0.50      4000\n",
            "   macro avg       0.49      0.49      0.48      4000\n",
            "weighted avg       0.55      0.50      0.52      4000\n",
            "\n",
            " Logistic Regression Recall: 0.47\n"
          ]
        }
      ],
      "source": [
        "print(\" Tuning hyperparameters for Logistic Regression...\")\n",
        "logreg = tune_model(LogisticRegression(class_weight=\"balanced\", max_iter=1000),\n",
        "                    param_grids[\"Logistic Regression\"], X_train, y_train)\n",
        "\n",
        "logreg.fit(X_train, y_train)\n",
        "y_pred_logreg = logreg.predict(X_test)\n",
        "\n",
        "print(\"\\n  - Classification Report:\")\n",
        "print(classification_report(y_test, y_pred_logreg))\n",
        "\n",
        "logreg_recall = recall_score(y_test, y_pred_logreg)\n",
        "print(f\" Logistic Regression Recall: {logreg_recall:.2f}\")\n"
      ]
    },
    {
      "cell_type": "code",
      "source": [
        "import matplotlib.pyplot as plt\n",
        "import seaborn as sns\n",
        "from sklearn.metrics import confusion_matrix\n",
        "\n",
        "def plot_confusion_matrix(y_test, y_pred, model_name=\"Logistic Regression\"):\n",
        "\n",
        "    conf_matrix = confusion_matrix(y_test, y_pred)\n",
        "\n",
        "    plt.figure(figsize=(6, 5))\n",
        "    sns.heatmap(conf_matrix, annot=True, fmt=\"d\", cmap=\"Blues\",\n",
        "                xticklabels=[\"Pred 1\", \"Pred 0\"], yticklabels=[\"True 1\", \"True 0\"])\n",
        "    plt.title(f\"Confusion Matrix ({model_name})\")\n",
        "    plt.xlabel(\"Predicted Label\")\n",
        "    plt.ylabel(\"True Label\")\n",
        "    plt.show()\n",
        "\n",
        "plot_confusion_matrix(y_test, y_pred_logreg, \"Logistic Regression\")\n"
      ],
      "metadata": {
        "colab": {
          "base_uri": "https://localhost:8080/",
          "height": 410
        },
        "id": "Hx-Cxei92zZC",
        "outputId": "1e9ddc6d-2843-450e-da80-049395d5ea5c"
      },
      "execution_count": 15,
      "outputs": [
        {
          "output_type": "display_data",
          "data": {
            "text/plain": [
              "<Figure size 500x400 with 2 Axes>"
            ],
            "image/png": "[encoded data removed]"
          },
          "metadata": {}
        }
      ]
    },
    {
      "cell_type": "code",
      "execution_count": null,
      "metadata": {
        "colab": {
          "base_uri": "https://localhost:8080/"
        },
        "id": "0aCvLzitC9bm",
        "outputId": "0f588118-dd27-4550-a22a-03464ed91fb7"
      },
      "outputs": [
        {
          "output_type": "stream",
          "name": "stdout",
          "text": [
            " Tuning hyperparameters for Decision Tree...\n"
          ]
        },
        {
          "output_type": "stream",
          "name": "stderr",
          "text": [
            "/usr/local/lib/python3.11/dist-packages/sklearn/model_selection/_search.py:317: UserWarning: The total space of parameters 9 is smaller than n_iter=10. Running 9 iterations. For exhaustive searches, use GridSearchCV.\n",
            "  warnings.warn(\n"
          ]
        },
        {
          "output_type": "stream",
          "name": "stdout",
          "text": [
            "\n",
            " Decision Tree - Classification Report:\n",
            "              precision    recall  f1-score   support\n",
            "\n",
            "           0       0.67      0.51      0.58      2682\n",
            "           1       0.33      0.49      0.39      1318\n",
            "\n",
            "    accuracy                           0.50      4000\n",
            "   macro avg       0.50      0.50      0.49      4000\n",
            "weighted avg       0.56      0.50      0.52      4000\n",
            "\n",
            " Decision Tree Recall: 0.49\n"
          ]
        }
      ],
      "source": [
        "print(\" Tuning hyperparameters for Decision Tree...\")\n",
        "dt = tune_model(DecisionTreeClassifier(class_weight=\"balanced\"),\n",
        "                param_grids[\"Decision Tree\"], X_train, y_train)\n",
        "\n",
        "dt.fit(X_train, y_train)\n",
        "y_pred_dt = dt.predict(X_test)\n",
        "\n",
        "print(\"\\n Decision Tree - Classification Report:\")\n",
        "print(classification_report(y_test, y_pred_dt))\n",
        "\n",
        "dt_recall = recall_score(y_test, y_pred_dt)\n",
        "print(f\" Decision Tree Recall: {dt_recall:.2f}\")\n"
      ]
    },
    {
      "cell_type": "code",
      "source": [
        "import matplotlib.pyplot as plt\n",
        "import seaborn as sns\n",
        "from sklearn.metrics import confusion_matrix\n",
        "\n",
        "def plot_confusion_matrix(y_test, y_pred, model_name=\"Decision Tree\"):\n",
        "    conf_matrix = confusion_matrix(y_test, y_pred)\n",
        "    plt.figure(figsize=(6, 5))\n",
        "    sns.heatmap(conf_matrix, annot=True, fmt=\"d\", cmap=\"Blues\",\n",
        "                xticklabels=[\"Pred 1\", \"Pred 0\"], yticklabels=[\"True 1\", \"True 0\"])\n",
        "    plt.title(f\"Confusion Matrix ({model_name})\")\n",
        "    plt.xlabel(\"Predicted Label\")\n",
        "    plt.ylabel(\"True Label\")\n",
        "    plt.show()\n",
        "\n",
        "plot_confusion_matrix(y_test, y_pred_dt, \"Decision Tree\")\n"
      ],
      "metadata": {
        "colab": {
          "base_uri": "https://localhost:8080/",
          "height": 410
        },
        "id": "aogSQKZt_1Yp",
        "outputId": "c80b9190-b5c0-4e22-9317-278d44d0c6b2"
      },
      "execution_count": 16,
      "outputs": [
        {
          "output_type": "display_data",
          "data": {
            "text/plain": [
              "<Figure size 500x400 with 2 Axes>"
            ],
            "image/png": "[encoded data removed]"
          },
          "metadata": {}
        }
      ]
    },
    {
      "cell_type": "code",
      "source": [
        "X_train_svm = X_train_scaled[:1000]\n",
        "y_train_svm = y_train[:1000]\n",
        "X_test_svm = X_test_scaled[:200]\n",
        "y_test_svm = y_test[:200]\n",
        "\n",
        "print(f\"SVM Training set size: {X_train_svm.shape[0]}\")\n",
        "print(f\"SVM Test set size: {X_test_svm.shape[0]}\")"
      ],
      "metadata": {
        "id": "G_67SoQW6BIK"
      },
      "execution_count": null,
      "outputs": []
    },
    {
      "cell_type": "code",
      "metadata": {
        "colab": {
          "base_uri": "https://localhost:8080/"
        },
        "id": "XwyPzppnIMLg",
        "outputId": "00e0b838-3a28-408b-c9b7-cc33f8f6ff33",
        "jupyter": {
          "is_executing": true
        },
        "ExecuteTime": {
          "start_time": "2025-02-23T15:17:37.704499Z"
        }
      },
      "source": [
        "print(\"Tuning hyperparameters for SVM...\")\n",
        "\n",
        "svm = SVC(kernel=\"rbf\", probability=True, class_weight=\"balanced\")\n",
        "svm.fit(X_train_svm, y_train_svm)\n",
        "y_pred_svm = svm.predict(X_test_svm)\n",
        "print(\"SVM:\")\n",
        "print(classification_report(y_test_svm, y_pred_svm))\n",
        "\n",
        "# Вывод Recall отдельно\n",
        "svm_recall = recall_score(y_test, y_pred_svm)\n",
        "print(f\"SVM Recall: {svm_recall:.2f}\")\n"
      ],
      "outputs": [
        {
          "output_type": "stream",
          "name": "stdout",
          "text": [
            "\n",
            " SVM - Classification Report:\n",
            "\n",
            "              precision    recall  f1-score   support\n",
            "\n",
            "           0       0.80      0.53      0.64      150\n",
            "           1       0.30      0.60      0.40       50\n",
            "\n",
            "    accuracy                           0.55       200\n",
            "   macro avg       0.55      0.57      0.52       200\n",
            "weighted avg       0.68      0.55      0.58       200\n",
            "\n",
            "\n",
            " SVM Recall: 0.60\n"
          ]
        }
      ],
      "execution_count": 12
    },
    {
      "cell_type": "code",
      "source": [
        "import matplotlib.pyplot as plt\n",
        "import seaborn as sns\n",
        "from sklearn.metrics import confusion_matrix\n",
        "\n",
        "def plot_confusion_matrix(y_test, y_pred, model_name=\"SVM\"):\n",
        "    conf_matrix = confusion_matrix(y_test, y_pred)\n",
        "    plt.figure(figsize=(6, 5))\n",
        "    sns.heatmap(conf_matrix, annot=True, fmt=\"d\", cmap=\"Blues\",\n",
        "                xticklabels=[\"BI-RADS 1\", \"Other\"], yticklabels=[\"BI-RADS 1\", \"Other\"])\n",
        "    plt.title(f\"Confusion Matrix ({model_name})\")\n",
        "    plt.xlabel(\"Predicted Label\")\n",
        "    plt.ylabel(\"True Label\")\n",
        "    plt.show()\n",
        "\n",
        "plot_confusion_matrix(y_test_svm, y_pred_svm, \"SVM\")\n"
      ],
      "metadata": {
        "colab": {
          "base_uri": "https://localhost:8080/",
          "height": 410
        },
        "id": "h5yraT-v-rar",
        "outputId": "d6d00110-8843-4182-f627-05ac413152a0"
      },
      "execution_count": 14,
      "outputs": [
        {
          "output_type": "display_data",
          "data": {
            "text/plain": [
              "<Figure size 500x400 with 2 Axes>"
            ],
            "image/png": "[encoded data removed]"
          },
          "metadata": {}
        }
      ]
    },
    {
      "cell_type": "code",
      "source": [
        "rf = RandomForestClassifier(class_weight=\"balanced\", n_estimators=200, max_depth=15, min_samples_split=5)\n",
        "knn = KNeighborsClassifier(n_neighbors=7, weights=\"distance\")\n"
      ],
      "metadata": {
        "id": "HnjeCtL_pigD",
        "ExecuteTime": {
          "end_time": "2025-02-23T15:05:40.903271Z",
          "start_time": "2025-02-23T15:05:40.897063Z"
        }
      },
      "outputs": [],
      "execution_count": null
    },
    {
      "cell_type": "code",
      "execution_count": null,
      "metadata": {
        "colab": {
          "base_uri": "https://localhost:8080/"
        },
        "id": "9eQK5rcUCf4o",
        "outputId": "e919eb47-4598-417d-e188-5e186006915d"
      },
      "outputs": [
        {
          "output_type": "stream",
          "name": "stdout",
          "text": [
            " Tuning hyperparameters for k-NN...\n",
            "\n",
            " k-NN - Classification Report:\n",
            "              precision    recall  f1-score   support\n",
            "\n",
            "           0       0.68      0.42      0.52      2682\n",
            "           1       0.34      0.60      0.43      1318\n",
            "\n",
            "    accuracy                           0.48      4000\n",
            "   macro avg       0.51      0.51      0.48      4000\n",
            "weighted avg       0.57      0.48      0.49      4000\n",
            "\n",
            " k-NN Recall: 0.60\n"
          ]
        }
      ],
      "source": [
        "print(\" Tuning hyperparameters for k-NN...\")\n",
        "knn = tune_model(KNeighborsClassifier(), param_grids[\"k-NN\"], X_train, y_train)\n",
        "\n",
        "knn.fit(X_train, y_train)\n",
        "y_pred_knn = knn.predict(X_test)\n",
        "\n",
        "print(\"\\n k-NN - Classification Report:\")\n",
        "print(classification_report(y_test, y_pred_knn))\n",
        "\n",
        "knn_recall = recall_score(y_test, y_pred_knn)\n",
        "print(f\" k-NN Recall: {knn_recall:.2f}\")\n"
      ]
    },
    {
      "cell_type": "code",
      "source": [
        "import matplotlib.pyplot as plt\n",
        "import seaborn as sns\n",
        "from sklearn.metrics import confusion_matrix\n",
        "\n",
        "def plot_confusion_matrix(y_test, y_pred, model_name=\"k-NN\"):\n",
        "    conf_matrix = confusion_matrix(y_test, y_pred)\n",
        "    plt.figure(figsize=(6, 5))\n",
        "    sns.heatmap(conf_matrix, annot=True, fmt=\"d\", cmap=\"Blues\",\n",
        "                xticklabels=[\"Pred 1\", \"Pred 0\"], yticklabels=[\"True 1\", \"True 0\"])\n",
        "    plt.title(f\"Confusion Matrix ({model_name})\")\n",
        "    plt.xlabel(\"Predicted Label\")\n",
        "    plt.ylabel(\"True Label\")\n",
        "    plt.show()\n",
        "\n",
        "plot_confusion_matrix(y_test, y_pred_knn, \"k-NN\")\n"
      ],
      "metadata": {
        "colab": {
          "base_uri": "https://localhost:8080/",
          "height": 410
        },
        "id": "gv76NYBbAebo",
        "outputId": "0c84f5a1-9d87-44f0-e261-92ab37541cbe"
      },
      "execution_count": 18,
      "outputs": [
        {
          "output_type": "display_data",
          "data": {
            "text/plain": [
              "<Figure size 500x400 with 2 Axes>"
            ],
            "image/png": "[encoded data removed]"
          },
          "metadata": {}
        }
      ]
    },
    {
      "cell_type": "code",
      "metadata": {
        "colab": {
          "base_uri": "https://localhost:8080/"
        },
        "id": "aKVXewv9ogAu",
        "outputId": "48d41dc5-eaed-4d96-d2b9-1ac636ded6bf",
        "ExecuteTime": {
          "end_time": "2025-02-23T15:17:37.668593Z",
          "start_time": "2025-02-23T15:05:52.239251Z"
        }
      },
      "source": [
        "print(\" Tuning hyperparameters for Random Forest...\")\n",
        "rf = tune_model(RandomForestClassifier(class_weight=\"balanced_subsample\"),\n",
        "                param_grids[\"Random Forest\"], X_train, y_train)\n",
        "\n",
        "rf.fit(X_train, y_train)\n",
        "y_pred_rf = rf.predict(X_test)\n",
        "\n",
        "print(\"\\n Random Forest - Classification Report:\")\n",
        "print(classification_report(y_test, y_pred_rf))\n",
        "\n",
        "rf_recall = recall_score(y_test, y_pred_rf)\n",
        "print(f\" Random Forest Recall: {rf_recall:.2f}\")\n"
      ],
      "outputs": [
        {
          "output_type": "stream",
          "name": "stdout",
          "text": [
            "\n",
            " Random Forest - Classification Report:\n",
            "\n",
            "              precision    recall  f1-score   support\n",
            "\n",
            "           0       0.69      0.72      0.70      2682\n",
            "           1       0.37      0.48      0.35      1318\n",
            "\n",
            "    accuracy                           0.59      4000\n",
            "   macro avg       0.53      0.60      0.53      4000\n",
            "weighted avg       0.58      0.59      0.59      4000\n",
            "\n",
            "\n",
            " Random Forest Recall: 0.48\n"
          ]
        }
      ],
      "execution_count": 11
    },
    {
      "cell_type": "code",
      "source": [
        "import matplotlib.pyplot as plt\n",
        "import seaborn as sns\n",
        "from sklearn.metrics import confusion_matrix\n",
        "\n",
        "def plot_confusion_matrix(y_test, y_pred, model_name=\"Random Forest\"):\n",
        "    conf_matrix = confusion_matrix(y_test, y_pred)\n",
        "    plt.figure(figsize=(6, 5))\n",
        "    sns.heatmap(conf_matrix, annot=True, fmt=\"d\", cmap=\"Blues\",\n",
        "                xticklabels=[\"Pred 1\", \"Pred 0\"], yticklabels=[\"True 1\", \"True 0\"])\n",
        "    plt.title(f\"Confusion Matrix ({model_name})\")\n",
        "    plt.xlabel(\"Predicted Label\")\n",
        "    plt.ylabel(\"True Label\")\n",
        "    plt.show()\n",
        "\n",
        "plot_confusion_matrix(y_test, y_pred_rf, \"Random Forest\")\n"
      ],
      "metadata": {
        "id": "5_kCehwtRYWH",
        "colab": {
          "base_uri": "https://localhost:8080/",
          "height": 410
        },
        "outputId": "a70192d8-8712-438c-ecb8-b0af8ea46995"
      },
      "execution_count": 17,
      "outputs": [
        {
          "output_type": "display_data",
          "data": {
            "text/plain": [
              "<Figure size 500x400 with 2 Axes>"
            ],
            "image/png": "[encoded data removed]"
          },
          "metadata": {}
        }
      ]
    },
    {
      "cell_type": "code",
      "execution_count": 19,
      "metadata": {
        "id": "A9Qz1LMBvaaM",
        "colab": {
          "base_uri": "https://localhost:8080/"
        },
        "outputId": "200f4df6-3da4-4533-bea8-3e7028035536"
      },
      "outputs": [
        {
          "output_type": "stream",
          "name": "stdout",
          "text": [
            "\n",
            " Recall Scores:\n",
            " Logistic Regression: 0.47\n",
            " Decision Tree: 0.49\n",
            " Random Forest: 0.48\n",
            " k-NN: 0.60\n",
            " SVM: 0.60\n",
            "\n",
            " Best Model: k-NN (Recall = 0.60)\n"
          ]
        }
      ],
      "source": [
        "recall_scores = {\n",
        "    \"Logistic Regression\": logreg_recall,\n",
        "    \"Decision Tree\": dt_recall,\n",
        "    \"Random Forest\": rf_recall,\n",
        "    \"k-NN\": knn_recall,\n",
        "    \"SVM\": svm_recall\n",
        "}\n",
        "\n",
        "best_model_name = max(recall_scores, key=recall_scores.get)\n",
        "print(f\"\\n Best Model: {best_model_name} (Recall = {recall_scores[best_model_name]:.2f})\")\n"
      ]
    }
  ],
  "metadata": {
    "colab": {
      "provenance": []
    },
    "kernelspec": {
      "display_name": "Python 3 (ipykernel)",
      "name": "python3",
      "language": "python"
    },
    "language_info": {
      "name": "python"
    }
  },
  "nbformat": 4,
  "nbformat_minor": 0
}